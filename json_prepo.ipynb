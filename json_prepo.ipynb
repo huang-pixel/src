{
  "cells": [
    {
      "cell_type": "markdown",
      "id": "56c90eca-f448-46ed-8202-f4b2d2ffe6ea",
      "metadata": {
        "id": "56c90eca-f448-46ed-8202-f4b2d2ffe6ea"
      },
      "source": [
        "# JSON file preprocessing  \n",
        "- GitLab Location : /ponsatcnam/malin/src/Elise/data/ex_classification/layoutlm_ex/json\n",
        "- Content : extracted text for each exercise\n",
        "- Format Input : json"
      ]
    },
    {
      "cell_type": "markdown",
      "id": "7a5cc686",
      "metadata": {
        "id": "7a5cc686"
      },
      "source": [
        "## JSON Structure"
      ]
    },
    {
      "cell_type": "code",
      "execution_count": null,
      "id": "1e375a26-93e0-47c9-ae4e-1c27318c6e69",
      "metadata": {
        "id": "1e375a26-93e0-47c9-ae4e-1c27318c6e69",
        "outputId": "09b0c841-574d-42a5-8907-137e35d4afb1"
      },
      "outputs": [
        {
          "name": "stdout",
          "output_type": "stream",
          "text": [
            "\n",
            "\n",
            "---------------JSON file Top and Sub Keys---------------\n",
            "\n",
            "\n",
            "['exercise']\n",
            "['id', 'manual', 'box', 'label', 'sentences']\n",
            "['id', 'text', 'categorie', 'box', 'words']\n",
            "\n",
            "\n",
            "---------------Example of Extracting Exercise Data---------------\n",
            "\n",
            "\n",
            "Consigne:\n",
            "Recopie et classe ces verbes selon leur groupe.\n",
            "\n",
            "Enonce:\n",
            "voir – aimer – obéir – prendre – apercevoir – applaudir – comprendre – danser – pouvoir – tourner – bâtir – habiter – apprendre – vouloir – guetter – vendre – choisir – sortir – descendre – dormir\n"
          ]
        }
      ],
      "source": [
        "# Import json\n",
        "import json\n",
        "import pprint\n",
        "\n",
        "# Load the file\n",
        "data = json.load(open('hachetteCE2_100_1.json', 'r', encoding='utf-8'))\n",
        "print(\"\\n\")\n",
        "print(\"---------------JSON file Top and Sub Keys---------------\")\n",
        "print(\"\\n\")\n",
        "# Top level keys\n",
        "pprint.pprint(list(data.keys()))\n",
        "# Second level keys\n",
        "pprint.pprint(list(data['exercise'].keys()))\n",
        "# Third level keys\n",
        "pprint.pprint(list(data['exercise']['sentences'][0].keys()))\n",
        "print(\"\\n\")\n",
        "print(\"---------------Example of Extracting Exercise Data---------------\")\n",
        "print(\"\\n\")\n",
        "# We want to extract the content where the category is 'consigne' and 'enonce'\n",
        "print(f\"Consigne:\\n{data['exercise']['sentences'][2]['text']}\\n\")\n",
        "print(f\"Enonce:\\n{data['exercise']['sentences'][3]['text']}\")"
      ]
    },
    {
      "cell_type": "markdown",
      "id": "fea4b298",
      "metadata": {
        "id": "fea4b298"
      },
      "source": [
        "Then, we can iterate through all the JSON files in the folder.  "
      ]
    },
    {
      "cell_type": "code",
      "execution_count": null,
      "id": "d6502af5",
      "metadata": {
        "id": "d6502af5"
      },
      "outputs": [],
      "source": [
        "import os\n",
        "import json\n",
        "import pandas as pd"
      ]
    },
    {
      "cell_type": "code",
      "execution_count": null,
      "id": "15415867",
      "metadata": {
        "id": "15415867"
      },
      "outputs": [],
      "source": [
        "folder = './json'"
      ]
    },
    {
      "cell_type": "code",
      "execution_count": null,
      "id": "78a7358c",
      "metadata": {
        "id": "78a7358c"
      },
      "outputs": [],
      "source": [
        "df_rows = [] # Store the data"
      ]
    },
    {
      "cell_type": "code",
      "execution_count": null,
      "id": "922cd373",
      "metadata": {
        "id": "922cd373",
        "outputId": "e185560b-4e3a-41a8-a93d-c863853b6b09"
      },
      "outputs": [
        {
          "name": "stdout",
          "output_type": "stream",
          "text": [
            "Skipping hachetteCE2_107_11.json because it doesn't contain 'consigne' or 'enonce'\n",
            "Skipping hachetteCE2_133_13.json because it doesn't contain 'consigne' or 'enonce'\n",
            "Skipping hachetteCE2_135_12.json because it doesn't contain 'consigne' or 'enonce'\n",
            "Skipping hachetteCE2_13_14.json because it doesn't contain 'consigne' or 'enonce'\n",
            "Skipping hachetteCE2_15_13.json because it doesn't contain 'consigne' or 'enonce'\n",
            "Skipping hachetteCE2_15_14.json because it doesn't contain 'consigne' or 'enonce'\n",
            "Skipping hachetteCE2_23_18.json because it doesn't contain 'consigne' or 'enonce'\n",
            "Skipping hachetteCE2_81_14.json because it doesn't contain 'consigne' or 'enonce'\n",
            "Skipping hachetteCE2_83_10.json because it doesn't contain 'consigne' or 'enonce'\n",
            "Skipping hachetteCE2_85_19.json because it doesn't contain 'consigne' or 'enonce'\n",
            "Skipping magnardCE1_117_3.json because it doesn't contain 'consigne' or 'enonce'\n",
            "Skipping magnardCE1_123_9.json because it doesn't contain 'consigne' or 'enonce'\n",
            "Skipping magnardCE1_127_10.json because it doesn't contain 'consigne' or 'enonce'\n",
            "Skipping magnardCE1_133_6.json because it doesn't contain 'consigne' or 'enonce'\n",
            "Skipping magnardCE1_139_7.json because it doesn't contain 'consigne' or 'enonce'\n",
            "Skipping magnardCE1_141_10.json because it doesn't contain 'consigne' or 'enonce'\n",
            "Skipping magnardCE1_25_8.json because it doesn't contain 'consigne' or 'enonce'\n",
            "Skipping magnardCE1_57_7.json because it doesn't contain 'consigne' or 'enonce'\n",
            "Skipping magnardCE1_61_9.json because it doesn't contain 'consigne' or 'enonce'\n",
            "Skipping magnardCE1_67_8.json because it doesn't contain 'consigne' or 'enonce'\n",
            "Skipping magnardCE1_75_10.json because it doesn't contain 'consigne' or 'enonce'\n",
            "Skipping magnardCE1_75_12.json because it doesn't contain 'consigne' or 'enonce'\n",
            "Skipping magnardCE1_75_9.json because it doesn't contain 'consigne' or 'enonce'\n",
            "Skipping magnardCE1_79_10.json because it doesn't contain 'consigne' or 'enonce'\n",
            "Skipping magnardCE1_79_7.json because it doesn't contain 'consigne' or 'enonce'\n",
            "Skipping magnardCE1_79_8.json because it doesn't contain 'consigne' or 'enonce'\n",
            "Skipping magnardCE1_81_10.json because it doesn't contain 'consigne' or 'enonce'\n",
            "Skipping magnardCE1_81_9.json because it doesn't contain 'consigne' or 'enonce'\n",
            "Skipping magnardCE1_83_11.json because it doesn't contain 'consigne' or 'enonce'\n",
            "Skipping magnardCE1_83_8.json because it doesn't contain 'consigne' or 'enonce'\n",
            "Skipping magnardCE1_83_9.json because it doesn't contain 'consigne' or 'enonce'\n",
            "Skipping magnardCE1_85_16.json because it doesn't contain 'consigne' or 'enonce'\n",
            "Skipping magnardCE1_85_9.json because it doesn't contain 'consigne' or 'enonce'\n",
            "Skipping magnardCE1_87_10.json because it doesn't contain 'consigne' or 'enonce'\n",
            "Skipping magnardCE1_87_8.json because it doesn't contain 'consigne' or 'enonce'\n",
            "Skipping magnardCE2_101_10.json because it doesn't contain 'consigne' or 'enonce'\n",
            "Skipping magnardCE2_103_12.json because it doesn't contain 'consigne' or 'enonce'\n",
            "Skipping magnardCE2_105_11.json because it doesn't contain 'consigne' or 'enonce'\n",
            "Skipping magnardCE2_105_4.json because it doesn't contain 'consigne' or 'enonce'\n",
            "Skipping magnardCE2_106_10.json because it doesn't contain 'consigne' or 'enonce'\n",
            "Skipping magnardCE2_106_5.json because it doesn't contain 'consigne' or 'enonce'\n",
            "Skipping magnardCE2_106_6.json because it doesn't contain 'consigne' or 'enonce'\n",
            "Skipping magnardCE2_106_7.json because it doesn't contain 'consigne' or 'enonce'\n",
            "Skipping magnardCE2_107_16.json because it doesn't contain 'consigne' or 'enonce'\n",
            "Skipping magnardCE2_107_20.json because it doesn't contain 'consigne' or 'enonce'\n",
            "Skipping magnardCE2_109_8.json because it doesn't contain 'consigne' or 'enonce'\n",
            "Skipping magnardCE2_111_10.json because it doesn't contain 'consigne' or 'enonce'\n",
            "Skipping magnardCE2_113_10.json because it doesn't contain 'consigne' or 'enonce'\n",
            "Skipping magnardCE2_117_10.json because it doesn't contain 'consigne' or 'enonce'\n",
            "Skipping magnardCE2_117_6.json because it doesn't contain 'consigne' or 'enonce'\n",
            "Skipping magnardCE2_11_7.json because it doesn't contain 'consigne' or 'enonce'\n",
            "Skipping magnardCE2_120_9.json because it doesn't contain 'consigne' or 'enonce'\n",
            "Skipping magnardCE2_121_10.json because it doesn't contain 'consigne' or 'enonce'\n",
            "Skipping magnardCE2_121_12.json because it doesn't contain 'consigne' or 'enonce'\n",
            "Skipping magnardCE2_121_17.json because it doesn't contain 'consigne' or 'enonce'\n",
            "Skipping magnardCE2_123_10.json because it doesn't contain 'consigne' or 'enonce'\n",
            "Skipping magnardCE2_125_12.json because it doesn't contain 'consigne' or 'enonce'\n",
            "Skipping magnardCE2_129_11.json because it doesn't contain 'consigne' or 'enonce'\n",
            "Skipping magnardCE2_131_10.json because it doesn't contain 'consigne' or 'enonce'\n",
            "Skipping magnardCE2_131_6.json because it doesn't contain 'consigne' or 'enonce'\n",
            "Skipping magnardCE2_135_10.json because it doesn't contain 'consigne' or 'enonce'\n",
            "Skipping magnardCE2_137_10.json because it doesn't contain 'consigne' or 'enonce'\n",
            "Skipping magnardCE2_13_9.json because it doesn't contain 'consigne' or 'enonce'\n",
            "Skipping magnardCE2_141_11.json because it doesn't contain 'consigne' or 'enonce'\n",
            "Skipping magnardCE2_143_11.json because it doesn't contain 'consigne' or 'enonce'\n",
            "Skipping magnardCE2_143_6.json because it doesn't contain 'consigne' or 'enonce'\n",
            "Skipping magnardCE2_155_11.json because it doesn't contain 'consigne' or 'enonce'\n",
            "Skipping magnardCE2_155_12.json because it doesn't contain 'consigne' or 'enonce'\n",
            "Skipping magnardCE2_155_7.json because it doesn't contain 'consigne' or 'enonce'\n",
            "Skipping magnardCE2_155_9.json because it doesn't contain 'consigne' or 'enonce'\n",
            "Skipping magnardCE2_15_10.json because it doesn't contain 'consigne' or 'enonce'\n",
            "Skipping magnardCE2_15_11.json because it doesn't contain 'consigne' or 'enonce'\n",
            "Skipping magnardCE2_163_10.json because it doesn't contain 'consigne' or 'enonce'\n",
            "Skipping magnardCE2_163_11.json because it doesn't contain 'consigne' or 'enonce'\n",
            "Skipping magnardCE2_163_9.json because it doesn't contain 'consigne' or 'enonce'\n",
            "Skipping magnardCE2_165_9.json because it doesn't contain 'consigne' or 'enonce'\n",
            "Skipping magnardCE2_166_8.json because it doesn't contain 'consigne' or 'enonce'\n",
            "Skipping magnardCE2_167_19.json because it doesn't contain 'consigne' or 'enonce'\n",
            "Skipping magnardCE2_167_20.json because it doesn't contain 'consigne' or 'enonce'\n",
            "Skipping magnardCE2_169_12.json because it doesn't contain 'consigne' or 'enonce'\n",
            "Skipping magnardCE2_171_13.json because it doesn't contain 'consigne' or 'enonce'\n",
            "Skipping magnardCE2_175_10.json because it doesn't contain 'consigne' or 'enonce'\n",
            "Skipping magnardCE2_175_11.json because it doesn't contain 'consigne' or 'enonce'\n",
            "Skipping magnardCE2_175_6.json because it doesn't contain 'consigne' or 'enonce'\n",
            "Skipping magnardCE2_175_7.json because it doesn't contain 'consigne' or 'enonce'\n",
            "Skipping magnardCE2_177_11.json because it doesn't contain 'consigne' or 'enonce'\n",
            "Skipping magnardCE2_179_13.json because it doesn't contain 'consigne' or 'enonce'\n",
            "Skipping magnardCE2_181_10.json because it doesn't contain 'consigne' or 'enonce'\n",
            "Skipping magnardCE2_184_1.json because it doesn't contain 'consigne' or 'enonce'\n",
            "Skipping magnardCE2_185_7.json because it doesn't contain 'consigne' or 'enonce'\n",
            "Skipping magnardCE2_187_10.json because it doesn't contain 'consigne' or 'enonce'\n",
            "Skipping magnardCE2_191_4.json because it doesn't contain 'consigne' or 'enonce'\n",
            "Skipping magnardCE2_191_8.json because it doesn't contain 'consigne' or 'enonce'\n",
            "Skipping magnardCE2_191_9.json because it doesn't contain 'consigne' or 'enonce'\n",
            "Skipping magnardCE2_19_6.json because it doesn't contain 'consigne' or 'enonce'\n",
            "Skipping magnardCE2_21_9.json because it doesn't contain 'consigne' or 'enonce'\n",
            "Skipping magnardCE2_23_11.json because it doesn't contain 'consigne' or 'enonce'\n",
            "Skipping magnardCE2_25_10.json because it doesn't contain 'consigne' or 'enonce'\n",
            "Skipping magnardCE2_29_11.json because it doesn't contain 'consigne' or 'enonce'\n",
            "Skipping magnardCE2_33_9.json because it doesn't contain 'consigne' or 'enonce'\n",
            "Skipping magnardCE2_35_10.json because it doesn't contain 'consigne' or 'enonce'\n",
            "Skipping magnardCE2_35_9.json because it doesn't contain 'consigne' or 'enonce'\n",
            "Skipping magnardCE2_37_11.json because it doesn't contain 'consigne' or 'enonce'\n",
            "Skipping magnardCE2_37_8.json because it doesn't contain 'consigne' or 'enonce'\n",
            "Skipping magnardCE2_43_9.json because it doesn't contain 'consigne' or 'enonce'\n",
            "Skipping magnardCE2_45_6.json because it doesn't contain 'consigne' or 'enonce'\n",
            "Skipping magnardCE2_49_8.json because it doesn't contain 'consigne' or 'enonce'\n",
            "Skipping magnardCE2_53_11.json because it doesn't contain 'consigne' or 'enonce'\n",
            "Skipping magnardCE2_57_14.json because it doesn't contain 'consigne' or 'enonce'\n",
            "Skipping magnardCE2_57_15.json because it doesn't contain 'consigne' or 'enonce'\n",
            "Skipping magnardCE2_59_12.json because it doesn't contain 'consigne' or 'enonce'\n",
            "Skipping magnardCE2_61_14.json because it doesn't contain 'consigne' or 'enonce'\n",
            "Skipping magnardCE2_63_9.json because it doesn't contain 'consigne' or 'enonce'\n",
            "Skipping magnardCE2_65_8.json because it doesn't contain 'consigne' or 'enonce'\n",
            "Skipping magnardCE2_65_9.json because it doesn't contain 'consigne' or 'enonce'\n",
            "Skipping magnardCE2_67_14.json because it doesn't contain 'consigne' or 'enonce'\n",
            "Skipping magnardCE2_67_15.json because it doesn't contain 'consigne' or 'enonce'\n",
            "Skipping magnardCE2_69_14.json because it doesn't contain 'consigne' or 'enonce'\n",
            "Skipping magnardCE2_71_14.json because it doesn't contain 'consigne' or 'enonce'\n",
            "Skipping magnardCE2_73_16.json because it doesn't contain 'consigne' or 'enonce'\n",
            "Skipping magnardCE2_75_9.json because it doesn't contain 'consigne' or 'enonce'\n",
            "Skipping magnardCE2_77_11.json because it doesn't contain 'consigne' or 'enonce'\n",
            "Skipping magnardCE2_79_12.json because it doesn't contain 'consigne' or 'enonce'\n",
            "Skipping magnardCE2_81_13.json because it doesn't contain 'consigne' or 'enonce'\n",
            "Skipping magnardCE2_85_13.json because it doesn't contain 'consigne' or 'enonce'\n",
            "Skipping magnardCE2_93_6.json because it doesn't contain 'consigne' or 'enonce'\n",
            "Skipping magnardCE2_95_12.json because it doesn't contain 'consigne' or 'enonce'\n",
            "Skipping magnardCE2_95_5.json because it doesn't contain 'consigne' or 'enonce'\n",
            "Skipping magnardCE2_97_11.json because it doesn't contain 'consigne' or 'enonce'\n",
            "Skipping magnardCE2_97_12.json because it doesn't contain 'consigne' or 'enonce'\n",
            "Skipping magnardCE2_97_14.json because it doesn't contain 'consigne' or 'enonce'\n",
            "Skipping magnardCE2_99_7.json because it doesn't contain 'consigne' or 'enonce'\n",
            "Skipping magnardCE2_9_10.json because it doesn't contain 'consigne' or 'enonce'\n"
          ]
        }
      ],
      "source": [
        "# Go through all files in the folder\n",
        "for filename in os.listdir(folder):\n",
        "    # Check if the file is a JSON file\n",
        "    if filename.endswith('.json'):\n",
        "        # Load the file\n",
        "        with open(os.path.join(folder, filename), 'r', encoding='utf-8') as f:\n",
        "            data = json.load(f)\n",
        "\n",
        "            consigne_text = ''\n",
        "            enonce_list = []\n",
        "\n",
        "            # Extract from the sentences data\n",
        "            extracted = data['exercise']['sentences']\n",
        "\n",
        "            # Loop through the content\n",
        "            for element in extracted:\n",
        "                # Check if 'categorie' exists and is equal to 'consigne'\n",
        "                if element.get('categorie') == 'consigne':\n",
        "                    consigne_text = element.get('text', '')\n",
        "                    break # Assume that we only have one 'consigne' in each exercise file\n",
        "\n",
        "            # Iterate again\n",
        "            for sentence in extracted:\n",
        "                # Check if 'categorie' exists and is equal to 'enonce'\n",
        "                if sentence.get('categorie') == 'enonce':\n",
        "                    enonce_list.append(sentence.get('text', ''))\n",
        "\n",
        "            # Append the data\n",
        "            if consigne_text and enonce_list:\n",
        "                add_row = {\n",
        "                    'filename': filename,\n",
        "                    'consigne': consigne_text,\n",
        "                    'enonce': enonce_list\n",
        "                }\n",
        "                df_rows.append(add_row)\n",
        "\n",
        "            else:\n",
        "                print(f\"Skipping {filename} because it doesn't contain 'consigne' or 'enonce'\")\n",
        "# Create the dataframe\n",
        "df = pd.DataFrame(df_rows)\n",
        "\n",
        "# Split the filename from the '.json'\n",
        "df['filename'] = df['filename'].str.split('.').str[0]\n",
        "\n",
        "# For multiline enonce in a list, separate them by '\\n'\n",
        "df['enonce'] = df['enonce'].str.join('\\n')"
      ]
    },
    {
      "cell_type": "code",
      "execution_count": null,
      "id": "22e9d487",
      "metadata": {
        "id": "22e9d487",
        "outputId": "9fbf3f7a-d141-4d36-b458-ac6cc0c4ed15"
      },
      "outputs": [
        {
          "data": {
            "text/html": [
              "<div>\n",
              "<style scoped>\n",
              "    .dataframe tbody tr th:only-of-type {\n",
              "        vertical-align: middle;\n",
              "    }\n",
              "\n",
              "    .dataframe tbody tr th {\n",
              "        vertical-align: top;\n",
              "    }\n",
              "\n",
              "    .dataframe thead th {\n",
              "        text-align: right;\n",
              "    }\n",
              "</style>\n",
              "<table border=\"1\" class=\"dataframe\">\n",
              "  <thead>\n",
              "    <tr style=\"text-align: right;\">\n",
              "      <th></th>\n",
              "      <th>filename</th>\n",
              "      <th>consigne</th>\n",
              "      <th>enonce</th>\n",
              "    </tr>\n",
              "  </thead>\n",
              "  <tbody>\n",
              "    <tr>\n",
              "      <th>0</th>\n",
              "      <td>hachetteCE2_100_1</td>\n",
              "      <td>Recopie et classe ces verbes selon leur groupe.</td>\n",
              "      <td>voir – aimer – obéir – prendre – apercevoir – ...</td>\n",
              "    </tr>\n",
              "    <tr>\n",
              "      <th>1</th>\n",
              "      <td>hachetteCE2_100_2</td>\n",
              "      <td>Recopie ce texte.</td>\n",
              "      <td>L’affolement règne dans les couloirs du musée....</td>\n",
              "    </tr>\n",
              "    <tr>\n",
              "      <th>2</th>\n",
              "      <td>hachetteCE2_100_4</td>\n",
              "      <td>Recopie ces verbes conjugués.</td>\n",
              "      <td>elles attrapent – tu remercies – vous transpor...</td>\n",
              "    </tr>\n",
              "    <tr>\n",
              "      <th>3</th>\n",
              "      <td>hachetteCE2_100_5</td>\n",
              "      <td>Relève tous les verbes conjugués de ce texte.</td>\n",
              "      <td>Violette marche sur la plage et ramasse des co...</td>\n",
              "    </tr>\n",
              "    <tr>\n",
              "      <th>4</th>\n",
              "      <td>hachetteCE2_100_6</td>\n",
              "      <td>Recopie ces verbes conjugués avec un pronom pe...</td>\n",
              "      <td>… glissais – … distribue – … lavez – … se repo...</td>\n",
              "    </tr>\n",
              "  </tbody>\n",
              "</table>\n",
              "</div>"
            ],
            "text/plain": [
              "            filename                                           consigne  \\\n",
              "0  hachetteCE2_100_1    Recopie et classe ces verbes selon leur groupe.   \n",
              "1  hachetteCE2_100_2                                  Recopie ce texte.   \n",
              "2  hachetteCE2_100_4                      Recopie ces verbes conjugués.   \n",
              "3  hachetteCE2_100_5      Relève tous les verbes conjugués de ce texte.   \n",
              "4  hachetteCE2_100_6  Recopie ces verbes conjugués avec un pronom pe...   \n",
              "\n",
              "                                              enonce  \n",
              "0  voir – aimer – obéir – prendre – apercevoir – ...  \n",
              "1  L’affolement règne dans les couloirs du musée....  \n",
              "2  elles attrapent – tu remercies – vous transpor...  \n",
              "3  Violette marche sur la plage et ramasse des co...  \n",
              "4  … glissais – … distribue – … lavez – … se repo...  "
            ]
          },
          "execution_count": 6,
          "metadata": {},
          "output_type": "execute_result"
        }
      ],
      "source": [
        "df.head()"
      ]
    },
    {
      "cell_type": "code",
      "execution_count": null,
      "id": "a6d7d619",
      "metadata": {
        "id": "a6d7d619"
      },
      "outputs": [],
      "source": [
        "# Save the dataframe to a CSV file\n",
        "df.to_csv('./exos_to_csv.csv', index=False)"
      ]
    },
    {
      "cell_type": "code",
      "execution_count": null,
      "id": "f3352320",
      "metadata": {
        "id": "f3352320"
      },
      "outputs": [],
      "source": []
    }
  ],
  "metadata": {
    "kernelspec": {
      "display_name": "Python 3 (ipykernel)",
      "language": "python",
      "name": "python3"
    },
    "language_info": {
      "codemirror_mode": {
        "name": "ipython",
        "version": 3
      },
      "file_extension": ".py",
      "mimetype": "text/x-python",
      "name": "python",
      "nbconvert_exporter": "python",
      "pygments_lexer": "ipython3",
      "version": "3.9.15"
    },
    "colab": {
      "provenance": []
    }
  },
  "nbformat": 4,
  "nbformat_minor": 5
}